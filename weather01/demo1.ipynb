{
 "cells": [
  {
   "cell_type": "code",
   "execution_count": null,
   "metadata": {
    "vscode": {
     "languageId": "plaintext"
    }
   },
   "outputs": [],
   "source": [
    "import requests\n",
    "import pandas as pd\n",
    "from datetime import datetime\n",
    "\n",
    "# API endpoint and parameters\n",
    "WEATHER_ENDPOINT = \"https://api.openweathermap.org/data/2.5/weather\"\n",
    "API_KEY = \"5364c78eab167c6b826b39227030cfa4\"  # Replace with your actual API key\n",
    "\n",
    "\n",
    "provinces = {\n",
    "    \"Chiang Mai\":{\n",
    "        \"lat\": 14.0134,\n",
    "        \"lon\": 98.6601\n",
    "    },\n",
    "    \"Lamphun\":{\n",
    "        \"lat\": 18.5745,\n",
    "        \"lon\": 99.0087\n",
    "    },\n",
    "    \"Lampang\":{\n",
    "        \"lat\": 17.6289,\n",
    "        \"lon\": 100.0977\n",
    "    },\n",
    "    \"Uttaradit\":{\n",
    "        \"lat\": 17.6255,\n",
    "        \"lon\": 100.0942\n",
    "    },\n",
    "    \"Phrae\":{\n",
    "        \"lat\": 18.1459,\n",
    "        \"lon\": 100.1410\n",
    "    },\n",
    "    \"Nan\":{\n",
    "        \"lat\": 18.7838,\n",
    "        \"lon\": 100.7789\n",
    "    },\n",
    "    \"Phayao\":{\n",
    "        \"lat\": 19.1920,\n",
    "        \"lon\": 99.8788\n",
    "    },\n",
    "    \"Chiang Rai\":{\n",
    "        \"lat\": 19.9086 ,\n",
    "        \"lon\": 99.8325\n",
    "    },\n",
    "    \"Mae Hong Son\":{\n",
    "        \"lat\": 19.3006 ,\n",
    "        \"lon\": 97.9686\n",
    "    }\n",
    "}\n",
    "\n",
    "# Function to fetch and process weather data\n",
    "def get_weather_data(province='Pathum Thani'):\n",
    "    \n",
    "    params = {\n",
    "        \"lat\": provinces[province]['lat'],\n",
    "        \"lon\": provinces[province]['lon'],\n",
    "        \"appid\": API_KEY,\n",
    "        \"units\": \"metric\"\n",
    "    }\n",
    "    try:\n",
    "        # Make API request\n",
    "        response = requests.get(WEATHER_ENDPOINT, params=params)\n",
    "        response.raise_for_status()  # Raise an exception for bad status codes\n",
    "        data = response.json()\n",
    "        \n",
    "        # Convert timestamp to datetime\n",
    "        timestamp = datetime.fromtimestamp(data['dt'])\n",
    "        \n",
    "        # Create dictionary with required fields\n",
    "        weather_dict = {\n",
    "            'timestamp': timestamp,\n",
    "            'year': timestamp.year,\n",
    "            'month': timestamp.month,\n",
    "            'day': timestamp.day,\n",
    "            'hour': timestamp.hour,\n",
    "            'minute': timestamp.minute,\n",
    "            'requested_province':province,\n",
    "            'location': data['name'],\n",
    "            'weather_main': data['weather'][0]['main'],\n",
    "            'weather_description': data['weather'][0]['description'],\n",
    "            'main.temp': data['main']['temp']\n",
    "        }\n",
    "        \n",
    "        # Create DataFrame\n",
    "        # df = pd.DataFrame([weather_dict])\n",
    "        \n",
    "        # return df\n",
    "        return weather_dict\n",
    "    \n",
    "    except requests.exceptions.RequestException as e:\n",
    "        print(f\"Error fetching data: {e}\")\n",
    "        return None\n",
    "    except KeyError as e:\n",
    "        print(f\"Error processing data: Missing key {e}\")\n",
    "        return None"
   ]
  },
  {
   "cell_type": "code",
   "execution_count": null,
   "metadata": {
    "vscode": {
     "languageId": "plaintext"
    }
   },
   "outputs": [],
   "source": [
    "df=pd.DataFrame([get_weather_data(p) for p in list(provinces.keys())])\n",
    "df.info()\n",
    "df.head()"
   ]
  },
  {
   "cell_type": "code",
   "execution_count": null,
   "metadata": {
    "vscode": {
     "languageId": "plaintext"
    }
   },
   "outputs": [],
   "source": [
    "import pandas as pd\n",
    "\n",
    "# lakeFS credentials from your docker-compose.yml\n",
    "ACCESS_KEY = \"access_key\"\n",
    "SECRET_KEY = \"secret_key\"\n",
    "\n",
    "# lakeFS endpoint (running locally)\n",
    "lakefs_endpoint = \"http://lakefs-dev:8000/\"\n",
    "\n",
    "# lakeFS repository, branch, and file path\n",
    "repo = \"weather\"\n",
    "branch = \"main\"\n",
    "path = \"weather.parquet\"\n",
    "\n",
    "# Construct the full lakeFS S3-compatible path\n",
    "lakefs_s3_path = f\"s3a://{repo}/{branch}/{path}\"\n",
    "\n",
    "# Configure storage_options for lakeFS (S3-compatible)\n",
    "storage_options = {\n",
    "    \"key\": ACCESS_KEY,\n",
    "    \"secret\": SECRET_KEY,\n",
    "    \"client_kwargs\": {\n",
    "        \"endpoint_url\": lakefs_endpoint\n",
    "    }\n",
    "}"
   ]
  },
  {
   "cell_type": "markdown",
   "metadata": {},
   "source": [
    "df.to_parquet(\n",
    "    lakefs_s3_path,\n",
    "    storage_options=storage_options,\n",
    "    partition_cols=['year','month','day','hour']\n",
    ")"
   ]
  },
  {
   "cell_type": "code",
   "execution_count": null,
   "metadata": {
    "vscode": {
     "languageId": "plaintext"
    }
   },
   "outputs": [],
   "source": [
    "from datetime import datetime\n",
    "import pytz\n",
    "\n",
    "dt = datetime.now()\n",
    "thai_tz = pytz.timezone('Asia/Bangkok')\n",
    "dt = dt.replace(tzinfo=thai_tz)"
   ]
  }
 ],
 "metadata": {
  "language_info": {
   "name": "python"
  }
 },
 "nbformat": 4,
 "nbformat_minor": 2
}
