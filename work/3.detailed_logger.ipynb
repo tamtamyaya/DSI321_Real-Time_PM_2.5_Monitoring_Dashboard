{
 "cells": [
  {
   "cell_type": "code",
   "execution_count": 2,
   "metadata": {},
   "outputs": [
    {
     "data": {
      "text/html": [
       "<pre style=\"white-space:pre;overflow-x:auto;line-height:normal;font-family:Menlo,'DejaVu Sans Mono',consolas,'Courier New',monospace\">02:22:43.525 | <span style=\"color: #008080; text-decoration-color: #008080\">INFO</span>    | prefect.engine - Created flow run<span style=\"color: #800080; text-decoration-color: #800080\"> 'mysterious-stork'</span> for flow<span style=\"color: #800080; text-decoration-color: #800080; font-weight: bold\"> 'hello_flow: 3.detailed_logger'</span>\n",
       "</pre>\n"
      ],
      "text/plain": [
       "02:22:43.525 | \u001b[36mINFO\u001b[0m    | prefect.engine - Created flow run\u001b[35m 'mysterious-stork'\u001b[0m for flow\u001b[1;35m 'hello_flow: 3.detailed_logger'\u001b[0m\n"
      ]
     },
     "metadata": {},
     "output_type": "display_data"
    },
    {
     "data": {
      "text/html": [
       "<pre style=\"white-space:pre;overflow-x:auto;line-height:normal;font-family:Menlo,'DejaVu Sans Mono',consolas,'Courier New',monospace\">02:22:43.531 | <span style=\"color: #008080; text-decoration-color: #008080\">INFO</span>    | prefect.engine - View at <span style=\"color: #0000ff; text-decoration-color: #0000ff\">http://prefect-server:4200/runs/flow-run/33a6cc76-e281-4d3b-8bfd-a4303aa806cf</span>\n",
       "</pre>\n"
      ],
      "text/plain": [
       "02:22:43.531 | \u001b[36mINFO\u001b[0m    | prefect.engine - View at \u001b[94mhttp://prefect-server:4200/runs/flow-run/33a6cc76-e281-4d3b-8bfd-a4303aa806cf\u001b[0m\n"
      ]
     },
     "metadata": {},
     "output_type": "display_data"
    },
    {
     "data": {
      "text/html": [
       "<pre style=\"white-space:pre;overflow-x:auto;line-height:normal;font-family:Menlo,'DejaVu Sans Mono',consolas,'Courier New',monospace\">02:22:43.756 | <span style=\"color: #008080; text-decoration-color: #008080\">INFO</span>    | Task run 'say_hello-0' - Created task run 'say_hello-0' for task 'say_hello'\n",
       "</pre>\n"
      ],
      "text/plain": [
       "02:22:43.756 | \u001b[36mINFO\u001b[0m    | Task run 'say_hello-0' - Created task run 'say_hello-0' for task 'say_hello'\n"
      ]
     },
     "metadata": {},
     "output_type": "display_data"
    },
    {
     "data": {
      "text/html": [
       "<pre style=\"white-space:pre;overflow-x:auto;line-height:normal;font-family:Menlo,'DejaVu Sans Mono',consolas,'Courier New',monospace\">02:22:43.865 | <span style=\"color: #d7d700; text-decoration-color: #d7d700\">WARNING</span> | Task run 'say_hello-0' - &gt;&gt;&gt; This is a <span style=\"color: #d7d700; text-decoration-color: #d7d700\">WARNING</span> message from my_task.\n",
       "</pre>\n"
      ],
      "text/plain": [
       "02:22:43.865 | \u001b[38;5;184mWARNING\u001b[0m | Task run 'say_hello-0' - >>> This is a \u001b[38;5;184mWARNING\u001b[0m message from my_task.\n"
      ]
     },
     "metadata": {},
     "output_type": "display_data"
    },
    {
     "data": {
      "text/html": [
       "<pre style=\"white-space:pre;overflow-x:auto;line-height:normal;font-family:Menlo,'DejaVu Sans Mono',consolas,'Courier New',monospace\">02:22:43.896 | <span style=\"color: #008080; text-decoration-color: #008080\">INFO</span>    | Task run 'say_hello-0' - Finished in state <span style=\"color: #008000; text-decoration-color: #008000\">Completed</span>()\n",
       "</pre>\n"
      ],
      "text/plain": [
       "02:22:43.896 | \u001b[36mINFO\u001b[0m    | Task run 'say_hello-0' - Finished in state \u001b[32mCompleted\u001b[0m()\n"
      ]
     },
     "metadata": {},
     "output_type": "display_data"
    },
    {
     "data": {
      "text/html": [
       "<pre style=\"white-space:pre;overflow-x:auto;line-height:normal;font-family:Menlo,'DejaVu Sans Mono',consolas,'Courier New',monospace\">02:22:44.032 | <span style=\"color: #008080; text-decoration-color: #008080\">INFO</span>    | Task run 'get_name-0' - Created task run 'get_name-0' for task 'get_name'\n",
       "</pre>\n"
      ],
      "text/plain": [
       "02:22:44.032 | \u001b[36mINFO\u001b[0m    | Task run 'get_name-0' - Created task run 'get_name-0' for task 'get_name'\n"
      ]
     },
     "metadata": {},
     "output_type": "display_data"
    },
    {
     "data": {
      "text/html": [
       "<pre style=\"white-space:pre;overflow-x:auto;line-height:normal;font-family:Menlo,'DejaVu Sans Mono',consolas,'Courier New',monospace\">02:22:44.150 | <span style=\"color: #008080; text-decoration-color: #008080\">INFO</span>    | Task run 'get_name-0' - &gt;&gt;&gt; This is an <span style=\"color: #008080; text-decoration-color: #008080\">INFO</span> message from my_task.\n",
       "</pre>\n"
      ],
      "text/plain": [
       "02:22:44.150 | \u001b[36mINFO\u001b[0m    | Task run 'get_name-0' - >>> This is an \u001b[36mINFO\u001b[0m message from my_task.\n"
      ]
     },
     "metadata": {},
     "output_type": "display_data"
    },
    {
     "data": {
      "text/html": [
       "<pre style=\"white-space:pre;overflow-x:auto;line-height:normal;font-family:Menlo,'DejaVu Sans Mono',consolas,'Courier New',monospace\">02:22:44.177 | <span style=\"color: #008080; text-decoration-color: #008080\">INFO</span>    | Task run 'get_name-0' - Finished in state <span style=\"color: #008000; text-decoration-color: #008000\">Completed</span>()\n",
       "</pre>\n"
      ],
      "text/plain": [
       "02:22:44.177 | \u001b[36mINFO\u001b[0m    | Task run 'get_name-0' - Finished in state \u001b[32mCompleted\u001b[0m()\n"
      ]
     },
     "metadata": {},
     "output_type": "display_data"
    },
    {
     "name": "stdout",
     "output_type": "stream",
     "text": [
      ">>> Print statements are also captured.\n"
     ]
    },
    {
     "data": {
      "text/html": [
       "<pre style=\"white-space:pre;overflow-x:auto;line-height:normal;font-family:Menlo,'DejaVu Sans Mono',consolas,'Courier New',monospace\">02:22:44.203 | <span style=\"color: #008080; text-decoration-color: #008080\">INFO</span>    | Flow run<span style=\"color: #800080; text-decoration-color: #800080\"> 'mysterious-stork'</span> - Finished in state <span style=\"color: #008000; text-decoration-color: #008000\">Completed</span>()\n",
       "</pre>\n"
      ],
      "text/plain": [
       "02:22:44.203 | \u001b[36mINFO\u001b[0m    | Flow run\u001b[35m 'mysterious-stork'\u001b[0m - Finished in state \u001b[32mCompleted\u001b[0m()\n"
      ]
     },
     "metadata": {},
     "output_type": "display_data"
    }
   ],
   "source": [
    "from prefect import flow, task, get_run_logger\n",
    "\n",
    "@task\n",
    "def say_hello():\n",
    "    logger = get_run_logger()\n",
    "    logger.warning(\">>> This is a WARNING message from my_task.\")\n",
    "    return \"Hello, \"\n",
    "\n",
    "@task\n",
    "def get_name():\n",
    "    logger = get_run_logger()\n",
    "    logger.info(\">>> This is an INFO message from my_task.\")\n",
    "    return \"DSI321: Big Data Infrastructure\"\n",
    "    \n",
    "@flow(name=\"hello_flow: 3.detailed_logger\")\n",
    "def hello_flow():\n",
    "    result = say_hello() + get_name() + \"!\"\n",
    "    print(\">>> Print statements are also captured.\")\n",
    "    return result\n",
    "\n",
    "if __name__ == '__main__':\n",
    "    hello_flow()"
   ]
  }
 ],
 "metadata": {
  "kernelspec": {
   "display_name": "Python 3 (ipykernel)",
   "language": "python",
   "name": "python3"
  },
  "language_info": {
   "codemirror_mode": {
    "name": "ipython",
    "version": 3
   },
   "file_extension": ".py",
   "mimetype": "text/x-python",
   "name": "python",
   "nbconvert_exporter": "python",
   "pygments_lexer": "ipython3",
   "version": "3.11.9"
  }
 },
 "nbformat": 4,
 "nbformat_minor": 4
}
