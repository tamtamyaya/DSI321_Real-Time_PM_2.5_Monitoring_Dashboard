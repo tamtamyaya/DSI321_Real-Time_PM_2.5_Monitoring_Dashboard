{
 "cells": [
  {
   "cell_type": "code",
   "execution_count": 2,
   "metadata": {},
   "outputs": [
    {
     "data": {
      "text/html": [
       "<pre style=\"white-space:pre;overflow-x:auto;line-height:normal;font-family:Menlo,'DejaVu Sans Mono',consolas,'Courier New',monospace\"><span style=\"color: #808000; text-decoration-color: #808000\">Looks like you're deploying to a process work pool. If you're creating a deployment for local development, calling </span>\n",
       "<span style=\"color: #808000; text-decoration-color: #808000\">`.serve` on your flow is a great way to get started. See the documentation for more information: </span>\n",
       "<span style=\"color: #0000ff; text-decoration-color: #0000ff; text-decoration: underline\">https://docs.prefect.io/latest/deploy/run-flows-in-local-processes</span><span style=\"color: #808000; text-decoration-color: #808000\">  Set `</span><span style=\"color: #808000; text-decoration-color: #808000\">ignore_warnings</span><span style=\"color: #808000; text-decoration-color: #808000\">=</span><span style=\"color: #00ff00; text-decoration-color: #00ff00; font-style: italic\">True</span><span style=\"color: #808000; text-decoration-color: #808000\">` to suppress this </span>\n",
       "<span style=\"color: #808000; text-decoration-color: #808000\">message.</span>\n",
       "</pre>\n"
      ],
      "text/plain": [
       "\u001b[33mLooks like you're deploying to a process work pool. If you're creating a deployment for local development, calling \u001b[0m\n",
       "\u001b[33m`.serve` on your flow is a great way to get started. See the documentation for more information: \u001b[0m\n",
       "\u001b[4;94mhttps://docs.prefect.io/latest/deploy/run-flows-in-local-processes\u001b[0m\u001b[33m  Set `\u001b[0m\u001b[33mignore_warnings\u001b[0m\u001b[33m=\u001b[0m\u001b[3;92mTrue\u001b[0m\u001b[33m` to suppress this \u001b[0m\n",
       "\u001b[33mmessage.\u001b[0m\n"
      ]
     },
     "metadata": {},
     "output_type": "display_data"
    },
    {
     "data": {
      "text/html": [
       "<pre style=\"white-space:pre;overflow-x:auto;line-height:normal;font-family:Menlo,'DejaVu Sans Mono',consolas,'Courier New',monospace\">/Library/Frameworks/Python.framework/Versions/3.11/lib/python3.11/site-packages/rich/live.py:231: UserWarning: \n",
       "install \"ipywidgets\" for Jupyter support\n",
       "  warnings.warn('install \"ipywidgets\" for Jupyter support')\n",
       "</pre>\n"
      ],
      "text/plain": [
       "/Library/Frameworks/Python.framework/Versions/3.11/lib/python3.11/site-packages/rich/live.py:231: UserWarning: \n",
       "install \"ipywidgets\" for Jupyter support\n",
       "  warnings.warn('install \"ipywidgets\" for Jupyter support')\n"
      ]
     },
     "metadata": {},
     "output_type": "display_data"
    },
    {
     "data": {
      "text/html": [
       "<pre style=\"white-space:pre;overflow-x:auto;line-height:normal;font-family:Menlo,'DejaVu Sans Mono',consolas,'Courier New',monospace\">/Library/Frameworks/Python.framework/Versions/3.11/lib/python3.11/site-packages/rich/live.py:231: UserWarning: \n",
       "install \"ipywidgets\" for Jupyter support\n",
       "  warnings.warn('install \"ipywidgets\" for Jupyter support')\n",
       "</pre>\n"
      ],
      "text/plain": [
       "/Library/Frameworks/Python.framework/Versions/3.11/lib/python3.11/site-packages/rich/live.py:231: UserWarning: \n",
       "install \"ipywidgets\" for Jupyter support\n",
       "  warnings.warn('install \"ipywidgets\" for Jupyter support')\n"
      ]
     },
     "metadata": {},
     "output_type": "display_data"
    },
    {
     "data": {
      "text/html": [
       "<pre style=\"white-space:pre;overflow-x:auto;line-height:normal;font-family:Menlo,'DejaVu Sans Mono',consolas,'Courier New',monospace\">/Library/Frameworks/Python.framework/Versions/3.11/lib/python3.11/site-packages/rich/live.py:231: UserWarning: \n",
       "install \"ipywidgets\" for Jupyter support\n",
       "  warnings.warn('install \"ipywidgets\" for Jupyter support')\n",
       "</pre>\n"
      ],
      "text/plain": [
       "/Library/Frameworks/Python.framework/Versions/3.11/lib/python3.11/site-packages/rich/live.py:231: UserWarning: \n",
       "install \"ipywidgets\" for Jupyter support\n",
       "  warnings.warn('install \"ipywidgets\" for Jupyter support')\n"
      ]
     },
     "metadata": {},
     "output_type": "display_data"
    },
    {
     "data": {
      "text/html": [
       "<pre style=\"white-space:pre;overflow-x:auto;line-height:normal;font-family:Menlo,'DejaVu Sans Mono',consolas,'Courier New',monospace\"></pre>\n"
      ],
      "text/plain": []
     },
     "metadata": {},
     "output_type": "display_data"
    },
    {
     "data": {
      "text/html": [
       "<pre style=\"white-space:pre;overflow-x:auto;line-height:normal;font-family:Menlo,'DejaVu Sans Mono',consolas,'Courier New',monospace\"><span style=\"color: #008000; text-decoration-color: #008000\">Successfully created/updated all deployments!</span>\n",
       "\n",
       "</pre>\n"
      ],
      "text/plain": [
       "\u001b[32mSuccessfully created/updated all deployments!\u001b[0m\n",
       "\n"
      ]
     },
     "metadata": {},
     "output_type": "display_data"
    },
    {
     "data": {
      "text/html": [
       "<pre style=\"white-space:pre;overflow-x:auto;line-height:normal;font-family:Menlo,'DejaVu Sans Mono',consolas,'Courier New',monospace\"><span style=\"font-style: italic\">                  Deployments                   </span>\n",
       "┏━━━━━━━━━━━━━━━━━━━━━━━━━━┳━━━━━━━━━┳━━━━━━━━━┓\n",
       "┃<span style=\"font-weight: bold\"> Name                     </span>┃<span style=\"font-weight: bold\"> Status  </span>┃<span style=\"font-weight: bold\"> Details </span>┃\n",
       "┡━━━━━━━━━━━━━━━━━━━━━━━━━━╇━━━━━━━━━╇━━━━━━━━━┩\n",
       "│<span style=\"color: #000080; text-decoration-color: #000080\"> show-stars/my_deployment </span>│<span style=\"color: #000080; text-decoration-color: #000080\"> applied </span>│<span style=\"color: #000080; text-decoration-color: #000080\">         </span>│\n",
       "└──────────────────────────┴─────────┴─────────┘\n",
       "</pre>\n"
      ],
      "text/plain": [
       "\u001b[3m                  Deployments                   \u001b[0m\n",
       "┏━━━━━━━━━━━━━━━━━━━━━━━━━━┳━━━━━━━━━┳━━━━━━━━━┓\n",
       "┃\u001b[1m \u001b[0m\u001b[1mName                    \u001b[0m\u001b[1m \u001b[0m┃\u001b[1m \u001b[0m\u001b[1mStatus \u001b[0m\u001b[1m \u001b[0m┃\u001b[1m \u001b[0m\u001b[1mDetails\u001b[0m\u001b[1m \u001b[0m┃\n",
       "┡━━━━━━━━━━━━━━━━━━━━━━━━━━╇━━━━━━━━━╇━━━━━━━━━┩\n",
       "│\u001b[34m \u001b[0m\u001b[34mshow-stars/my_deployment\u001b[0m\u001b[34m \u001b[0m│\u001b[34m \u001b[0m\u001b[34mapplied\u001b[0m\u001b[34m \u001b[0m│\u001b[34m \u001b[0m\u001b[34m       \u001b[0m\u001b[34m \u001b[0m│\n",
       "└──────────────────────────┴─────────┴─────────┘\n"
      ]
     },
     "metadata": {},
     "output_type": "display_data"
    },
    {
     "data": {
      "text/html": [
       "<pre style=\"white-space:pre;overflow-x:auto;line-height:normal;font-family:Menlo,'DejaVu Sans Mono',consolas,'Courier New',monospace\">\n",
       "To execute flow runs from this deployment, start a worker in a separate terminal that pulls work from the \n",
       "<span style=\"color: #008000; text-decoration-color: #008000\">'default-agent-pool'</span> work pool:\n",
       "</pre>\n"
      ],
      "text/plain": [
       "\n",
       "To execute flow runs from this deployment, start a worker in a separate terminal that pulls work from the \n",
       "\u001b[32m'default-agent-pool'\u001b[0m work pool:\n"
      ]
     },
     "metadata": {},
     "output_type": "display_data"
    },
    {
     "data": {
      "text/html": [
       "<pre style=\"white-space:pre;overflow-x:auto;line-height:normal;font-family:Menlo,'DejaVu Sans Mono',consolas,'Courier New',monospace\">\n",
       "<span style=\"color: #000080; text-decoration-color: #000080\">        $ prefect worker start --pool </span><span style=\"color: #008000; text-decoration-color: #008000\">'default-agent-pool'</span>\n",
       "</pre>\n"
      ],
      "text/plain": [
       "\n",
       "\u001b[34m        $ prefect worker start --pool \u001b[0m\u001b[32m'default-agent-pool'\u001b[0m\n"
      ]
     },
     "metadata": {},
     "output_type": "display_data"
    },
    {
     "data": {
      "text/html": [
       "<pre style=\"white-space:pre;overflow-x:auto;line-height:normal;font-family:Menlo,'DejaVu Sans Mono',consolas,'Courier New',monospace\">\n",
       "To schedule a run for this deployment, use the following command:\n",
       "</pre>\n"
      ],
      "text/plain": [
       "\n",
       "To schedule a run for this deployment, use the following command:\n"
      ]
     },
     "metadata": {},
     "output_type": "display_data"
    },
    {
     "data": {
      "text/html": [
       "<pre style=\"white-space:pre;overflow-x:auto;line-height:normal;font-family:Menlo,'DejaVu Sans Mono',consolas,'Courier New',monospace\">\n",
       "<span style=\"color: #000080; text-decoration-color: #000080\">        $ prefect deployment run </span><span style=\"color: #008000; text-decoration-color: #008000\">'show-stars/my_deployment'</span>\n",
       "\n",
       "</pre>\n"
      ],
      "text/plain": [
       "\n",
       "\u001b[34m        $ prefect deployment run \u001b[0m\u001b[32m'show-stars/my_deployment'\u001b[0m\n",
       "\n"
      ]
     },
     "metadata": {},
     "output_type": "display_data"
    },
    {
     "name": "stdout",
     "output_type": "stream",
     "text": [
      "Deployment registered: 0f68b033-4236-4673-a2b3-feb00e12c75e\n"
     ]
    }
   ],
   "source": [
    "import nest_asyncio\n",
    "nest_asyncio.apply()\n",
    "\n",
    "import asyncio\n",
    "from prefect import flow\n",
    "# Use the proper import for deployments if needed (depending on your version)\n",
    "# For example, in Prefect 3, the flow.from_source method is asynchronous.\n",
    "\n",
    "SOURCE_REPO = \"https://github.com/prefecthq/demos.git\"\n",
    "\n",
    "async def register_deployment():\n",
    "    # Await the from_source call to load the flow\n",
    "    loaded_flow = await flow.from_source(\n",
    "        source=SOURCE_REPO,\n",
    "        entrypoint=\"my_workflow.py:show_stars\",  # Adjust to your repo's structure\n",
    "    )\n",
    "    # Now deploy the loaded flow (awaiting the deploy call)\n",
    "    deployment = await loaded_flow.deploy(\n",
    "        name=\"my_deployment\",\n",
    "        parameters={\n",
    "            \"github_repos\": [\n",
    "                \"wasit7/papapipeline\",\n",
    "                \"wasit7/DjangoCrafter\",\n",
    "                \"PrefectHQ/prefect\",\n",
    "                \"huggingface/transformers\"\n",
    "            ]\n",
    "        },\n",
    "        work_pool_name=\"default-agent-pool\",\n",
    "        cron=\"*/5 * * * *\"  # Run every 5 minutes (adjust as needed)\n",
    "    )\n",
    "    return deployment\n",
    "\n",
    "# Run the async function in Jupyter using await at top-level\n",
    "deployment_result = await register_deployment()\n",
    "print(\"Deployment registered:\", deployment_result)\n"
   ]
  }
 ],
 "metadata": {
  "kernelspec": {
   "display_name": "Python 3",
   "language": "python",
   "name": "python3"
  },
  "language_info": {
   "codemirror_mode": {
    "name": "ipython",
    "version": 3
   },
   "file_extension": ".py",
   "mimetype": "text/x-python",
   "name": "python",
   "nbconvert_exporter": "python",
   "pygments_lexer": "ipython3",
   "version": "3.11.0"
  }
 },
 "nbformat": 4,
 "nbformat_minor": 2
}
