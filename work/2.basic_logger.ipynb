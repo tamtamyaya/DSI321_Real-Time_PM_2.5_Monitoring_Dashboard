{
 "cells": [
  {
   "cell_type": "code",
   "execution_count": 1,
   "metadata": {},
   "outputs": [
    {
     "data": {
      "text/html": [
       "<pre style=\"white-space:pre;overflow-x:auto;line-height:normal;font-family:Menlo,'DejaVu Sans Mono',consolas,'Courier New',monospace\">00:02:06.330 | <span style=\"color: #008080; text-decoration-color: #008080\">INFO</span>    | prefect.engine - Created flow run<span style=\"color: #800080; text-decoration-color: #800080\"> 'prompt-chipmunk'</span> for flow<span style=\"color: #800080; text-decoration-color: #800080; font-weight: bold\"> 'hello_flow: 2.basic_logger'</span>\n",
       "</pre>\n"
      ],
      "text/plain": [
       "00:02:06.330 | \u001b[36mINFO\u001b[0m    | prefect.engine - Created flow run\u001b[35m 'prompt-chipmunk'\u001b[0m for flow\u001b[1;35m 'hello_flow: 2.basic_logger'\u001b[0m\n"
      ]
     },
     "metadata": {},
     "output_type": "display_data"
    },
    {
     "data": {
      "text/html": [
       "<pre style=\"white-space:pre;overflow-x:auto;line-height:normal;font-family:Menlo,'DejaVu Sans Mono',consolas,'Courier New',monospace\">00:02:06.334 | <span style=\"color: #008080; text-decoration-color: #008080\">INFO</span>    | prefect.engine - View at <span style=\"color: #0000ff; text-decoration-color: #0000ff\">http://prefect-server:4200/runs/flow-run/c64f8d54-8cb3-43ce-89d6-cdbdcf6e3985</span>\n",
       "</pre>\n"
      ],
      "text/plain": [
       "00:02:06.334 | \u001b[36mINFO\u001b[0m    | prefect.engine - View at \u001b[94mhttp://prefect-server:4200/runs/flow-run/c64f8d54-8cb3-43ce-89d6-cdbdcf6e3985\u001b[0m\n"
      ]
     },
     "metadata": {},
     "output_type": "display_data"
    },
    {
     "data": {
      "text/html": [
       "<pre style=\"white-space:pre;overflow-x:auto;line-height:normal;font-family:Menlo,'DejaVu Sans Mono',consolas,'Courier New',monospace\">00:02:06.544 | <span style=\"color: #008080; text-decoration-color: #008080\">INFO</span>    | Task run 'say_hello-0' - Created task run 'say_hello-0' for task 'say_hello'\n",
       "</pre>\n"
      ],
      "text/plain": [
       "00:02:06.544 | \u001b[36mINFO\u001b[0m    | Task run 'say_hello-0' - Created task run 'say_hello-0' for task 'say_hello'\n"
      ]
     },
     "metadata": {},
     "output_type": "display_data"
    },
    {
     "data": {
      "text/html": [
       "<pre style=\"white-space:pre;overflow-x:auto;line-height:normal;font-family:Menlo,'DejaVu Sans Mono',consolas,'Courier New',monospace\">00:02:06.655 | <span style=\"color: #008080; text-decoration-color: #008080\">INFO</span>    | Task run 'say_hello-0' - &gt;&gt;&gt; from say_hello()\n",
       "</pre>\n"
      ],
      "text/plain": [
       "00:02:06.655 | \u001b[36mINFO\u001b[0m    | Task run 'say_hello-0' - >>> from say_hello()\n"
      ]
     },
     "metadata": {},
     "output_type": "display_data"
    },
    {
     "data": {
      "text/html": [
       "<pre style=\"white-space:pre;overflow-x:auto;line-height:normal;font-family:Menlo,'DejaVu Sans Mono',consolas,'Courier New',monospace\">00:02:06.682 | <span style=\"color: #008080; text-decoration-color: #008080\">INFO</span>    | Task run 'say_hello-0' - Finished in state <span style=\"color: #008000; text-decoration-color: #008000\">Completed</span>()\n",
       "</pre>\n"
      ],
      "text/plain": [
       "00:02:06.682 | \u001b[36mINFO\u001b[0m    | Task run 'say_hello-0' - Finished in state \u001b[32mCompleted\u001b[0m()\n"
      ]
     },
     "metadata": {},
     "output_type": "display_data"
    },
    {
     "data": {
      "text/html": [
       "<pre style=\"white-space:pre;overflow-x:auto;line-height:normal;font-family:Menlo,'DejaVu Sans Mono',consolas,'Courier New',monospace\">00:02:06.799 | <span style=\"color: #008080; text-decoration-color: #008080\">INFO</span>    | Task run 'get_name-0' - Created task run 'get_name-0' for task 'get_name'\n",
       "</pre>\n"
      ],
      "text/plain": [
       "00:02:06.799 | \u001b[36mINFO\u001b[0m    | Task run 'get_name-0' - Created task run 'get_name-0' for task 'get_name'\n"
      ]
     },
     "metadata": {},
     "output_type": "display_data"
    },
    {
     "data": {
      "text/html": [
       "<pre style=\"white-space:pre;overflow-x:auto;line-height:normal;font-family:Menlo,'DejaVu Sans Mono',consolas,'Courier New',monospace\">00:02:06.900 | <span style=\"color: #008080; text-decoration-color: #008080\">INFO</span>    | Task run 'get_name-0' - &gt;&gt;&gt; from get_name()\n",
       "</pre>\n"
      ],
      "text/plain": [
       "00:02:06.900 | \u001b[36mINFO\u001b[0m    | Task run 'get_name-0' - >>> from get_name()\n"
      ]
     },
     "metadata": {},
     "output_type": "display_data"
    },
    {
     "data": {
      "text/html": [
       "<pre style=\"white-space:pre;overflow-x:auto;line-height:normal;font-family:Menlo,'DejaVu Sans Mono',consolas,'Courier New',monospace\">00:02:06.925 | <span style=\"color: #008080; text-decoration-color: #008080\">INFO</span>    | Task run 'get_name-0' - Finished in state <span style=\"color: #008000; text-decoration-color: #008000\">Completed</span>()\n",
       "</pre>\n"
      ],
      "text/plain": [
       "00:02:06.925 | \u001b[36mINFO\u001b[0m    | Task run 'get_name-0' - Finished in state \u001b[32mCompleted\u001b[0m()\n"
      ]
     },
     "metadata": {},
     "output_type": "display_data"
    },
    {
     "data": {
      "text/html": [
       "<pre style=\"white-space:pre;overflow-x:auto;line-height:normal;font-family:Menlo,'DejaVu Sans Mono',consolas,'Courier New',monospace\">00:02:06.927 | <span style=\"color: #008080; text-decoration-color: #008080\">INFO</span>    | Flow run<span style=\"color: #800080; text-decoration-color: #800080\"> 'prompt-chipmunk'</span> - &gt;&gt;&gt; result: Hello, DSI321: Big Data Infrastructure!\n",
       "</pre>\n"
      ],
      "text/plain": [
       "00:02:06.927 | \u001b[36mINFO\u001b[0m    | Flow run\u001b[35m 'prompt-chipmunk'\u001b[0m - >>> result: Hello, DSI321: Big Data Infrastructure!\n"
      ]
     },
     "metadata": {},
     "output_type": "display_data"
    },
    {
     "data": {
      "text/html": [
       "<pre style=\"white-space:pre;overflow-x:auto;line-height:normal;font-family:Menlo,'DejaVu Sans Mono',consolas,'Courier New',monospace\">00:02:06.952 | <span style=\"color: #008080; text-decoration-color: #008080\">INFO</span>    | Flow run<span style=\"color: #800080; text-decoration-color: #800080\"> 'prompt-chipmunk'</span> - Finished in state <span style=\"color: #008000; text-decoration-color: #008000\">Completed</span>()\n",
       "</pre>\n"
      ],
      "text/plain": [
       "00:02:06.952 | \u001b[36mINFO\u001b[0m    | Flow run\u001b[35m 'prompt-chipmunk'\u001b[0m - Finished in state \u001b[32mCompleted\u001b[0m()\n"
      ]
     },
     "metadata": {},
     "output_type": "display_data"
    }
   ],
   "source": [
    "from prefect import flow, task\n",
    "\n",
    "@task\n",
    "def say_hello():\n",
    "    print(f\">>> from say_hello()\")\n",
    "    return \"Hello, \"\n",
    "\n",
    "@task\n",
    "def get_name():\n",
    "    print(f\">>> from get_name()\")\n",
    "    return \"DSI321: Big Data Infrastructure\"\n",
    "    \n",
    "@flow(name=\"hello_flow: 2.basic_logger\", log_prints=True)\n",
    "def hello_flow():\n",
    "    result = say_hello() + get_name() + \"!\"\n",
    "    print(f\">>> result: {result}\")\n",
    "    return result\n",
    "\n",
    "if __name__ == '__main__':\n",
    "    hello_flow()"
   ]
  }
 ],
 "metadata": {
  "kernelspec": {
   "display_name": "Python 3 (ipykernel)",
   "language": "python",
   "name": "python3"
  },
  "language_info": {
   "codemirror_mode": {
    "name": "ipython",
    "version": 3
   },
   "file_extension": ".py",
   "mimetype": "text/x-python",
   "name": "python",
   "nbconvert_exporter": "python",
   "pygments_lexer": "ipython3",
   "version": "3.11.9"
  }
 },
 "nbformat": 4,
 "nbformat_minor": 4
}
