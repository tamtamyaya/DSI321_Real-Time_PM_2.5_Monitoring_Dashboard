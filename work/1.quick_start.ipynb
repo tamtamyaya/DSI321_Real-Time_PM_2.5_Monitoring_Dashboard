{
 "cells": [
  {
   "cell_type": "code",
   "execution_count": 1,
   "metadata": {},
   "outputs": [
    {
     "name": "stdout",
     "output_type": "stream",
     "text": [
      "Requirement already satisfied: prefect in /usr/local/lib/python3.11/site-packages (3.0.0rc14)\n",
      "Requirement already satisfied: aiosqlite>=0.17.0 in /usr/local/lib/python3.11/site-packages (from prefect) (0.20.0)\n",
      "Requirement already satisfied: alembic<2.0.0,>=1.7.5 in /usr/local/lib/python3.11/site-packages (from prefect) (1.13.2)\n",
      "Requirement already satisfied: apprise<2.0.0,>=1.1.0 in /usr/local/lib/python3.11/site-packages (from prefect) (1.8.1)\n",
      "Requirement already satisfied: asyncpg>=0.23 in /usr/local/lib/python3.11/site-packages (from prefect) (0.29.0)\n",
      "Requirement already satisfied: click<8.2,>=8.0 in /usr/local/lib/python3.11/site-packages (from prefect) (8.1.7)\n",
      "Requirement already satisfied: cryptography>=36.0.1 in /usr/local/lib/python3.11/site-packages (from prefect) (43.0.0)\n",
      "Requirement already satisfied: dateparser<2.0.0,>=1.1.1 in /usr/local/lib/python3.11/site-packages (from prefect) (1.2.0)\n",
      "Requirement already satisfied: docker>=4.0 in /usr/local/lib/python3.11/site-packages (from prefect) (7.1.0)\n",
      "Requirement already satisfied: graphviz>=0.20.1 in /usr/local/lib/python3.11/site-packages (from prefect) (0.20.3)\n",
      "Requirement already satisfied: griffe>=0.20.0 in /usr/local/lib/python3.11/site-packages (from prefect) (0.47.0)\n",
      "Requirement already satisfied: jinja2<4.0.0,>=3.0.0 in /usr/local/lib/python3.11/site-packages (from prefect) (3.1.4)\n",
      "Requirement already satisfied: jinja2-humanize-extension>=0.4.0 in /usr/local/lib/python3.11/site-packages (from prefect) (0.4.0)\n",
      "Requirement already satisfied: humanize>=4.9.0 in /usr/local/lib/python3.11/site-packages (from prefect) (4.10.0)\n",
      "Requirement already satisfied: pytz<2025,>=2021.1 in /usr/local/lib/python3.11/site-packages (from prefect) (2024.1)\n",
      "Requirement already satisfied: readchar<5.0.0,>=4.0.0 in /usr/local/lib/python3.11/site-packages (from prefect) (4.1.0)\n",
      "Requirement already satisfied: sqlalchemy<3.0.0,>=2.0 in /usr/local/lib/python3.11/site-packages (from sqlalchemy[asyncio]<3.0.0,>=2.0->prefect) (2.0.31)\n",
      "Requirement already satisfied: typer!=0.12.2,<0.13.0,>=0.12.0 in /usr/local/lib/python3.11/site-packages (from prefect) (0.12.3)\n",
      "Requirement already satisfied: anyio<5.0.0,>=4.4.0 in /usr/local/lib/python3.11/site-packages (from prefect) (4.4.0)\n",
      "Requirement already satisfied: asgi-lifespan<3.0,>=1.0 in /usr/local/lib/python3.11/site-packages (from prefect) (2.1.0)\n",
      "Requirement already satisfied: cachetools<6.0,>=5.3 in /usr/local/lib/python3.11/site-packages (from prefect) (5.4.0)\n",
      "Requirement already satisfied: cloudpickle<4.0,>=2.0 in /usr/local/lib/python3.11/site-packages (from prefect) (3.0.0)\n",
      "Requirement already satisfied: coolname<3.0.0,>=1.0.4 in /usr/local/lib/python3.11/site-packages (from prefect) (2.2.0)\n",
      "Requirement already satisfied: croniter<4.0.0,>=1.0.12 in /usr/local/lib/python3.11/site-packages (from prefect) (3.0.3)\n",
      "Requirement already satisfied: exceptiongroup>=1.0.0 in /usr/local/lib/python3.11/site-packages (from prefect) (1.2.2)\n",
      "Requirement already satisfied: fastapi<1.0.0,>=0.111.0 in /usr/local/lib/python3.11/site-packages (from prefect) (0.111.1)\n",
      "Requirement already satisfied: fsspec>=2022.5.0 in /usr/local/lib/python3.11/site-packages (from prefect) (2025.3.2)\n",
      "Requirement already satisfied: httpcore<2.0.0,>=1.0.5 in /usr/local/lib/python3.11/site-packages (from prefect) (1.0.5)\n",
      "Requirement already satisfied: httpx!=0.23.2,>=0.23 in /usr/local/lib/python3.11/site-packages (from httpx[http2]!=0.23.2,>=0.23->prefect) (0.27.0)\n",
      "Requirement already satisfied: importlib-resources<6.2.0,>=6.1.3 in /usr/local/lib/python3.11/site-packages (from prefect) (6.1.3)\n",
      "Requirement already satisfied: jsonpatch<2.0,>=1.32 in /usr/local/lib/python3.11/site-packages (from prefect) (1.33)\n",
      "Requirement already satisfied: jsonschema<5.0.0,>=4.0.0 in /usr/local/lib/python3.11/site-packages (from prefect) (4.23.0)\n",
      "Requirement already satisfied: orjson<4.0,>=3.7 in /usr/local/lib/python3.11/site-packages (from prefect) (3.10.6)\n",
      "Requirement already satisfied: packaging<24.3,>=21.3 in /usr/local/lib/python3.11/site-packages (from prefect) (24.1)\n",
      "Requirement already satisfied: pathspec>=0.8.0 in /usr/local/lib/python3.11/site-packages (from prefect) (0.12.1)\n",
      "Requirement already satisfied: pendulum<4,>=3.0.0 in /usr/local/lib/python3.11/site-packages (from prefect) (3.0.0)\n",
      "Requirement already satisfied: prometheus-client>=0.20.0 in /usr/local/lib/python3.11/site-packages (from prefect) (0.20.0)\n",
      "Requirement already satisfied: pydantic<3.0.0,>=2.7 in /usr/local/lib/python3.11/site-packages (from prefect) (2.8.2)\n",
      "Requirement already satisfied: pydantic-core<3.0.0,>=2.12.0 in /usr/local/lib/python3.11/site-packages (from prefect) (2.20.1)\n",
      "Requirement already satisfied: pydantic-extra-types<3.0.0,>=2.8.2 in /usr/local/lib/python3.11/site-packages (from prefect) (2.9.0)\n",
      "Requirement already satisfied: pydantic-settings in /usr/local/lib/python3.11/site-packages (from prefect) (2.4.0)\n",
      "Requirement already satisfied: python-dateutil<3.0.0,>=2.8.2 in /usr/local/lib/python3.11/site-packages (from prefect) (2.9.0.post0)\n",
      "Requirement already satisfied: python-slugify<9.0,>=5.0 in /usr/local/lib/python3.11/site-packages (from prefect) (8.0.4)\n",
      "Requirement already satisfied: pyyaml<7.0.0,>=5.4.1 in /usr/local/lib/python3.11/site-packages (from prefect) (6.0.1)\n",
      "Requirement already satisfied: rfc3339-validator<0.2.0,>=0.1.4 in /usr/local/lib/python3.11/site-packages (from prefect) (0.1.4)\n",
      "Requirement already satisfied: rich<14.0,>=11.0 in /usr/local/lib/python3.11/site-packages (from prefect) (13.7.1)\n",
      "Requirement already satisfied: ruamel.yaml>=0.17.0 in /usr/local/lib/python3.11/site-packages (from prefect) (0.18.6)\n",
      "Requirement already satisfied: sniffio<2.0.0,>=1.3.0 in /usr/local/lib/python3.11/site-packages (from prefect) (1.3.1)\n",
      "Requirement already satisfied: toml>=0.10.0 in /usr/local/lib/python3.11/site-packages (from prefect) (0.10.2)\n",
      "Requirement already satisfied: typing-extensions<5.0.0,>=4.5.0 in /usr/local/lib/python3.11/site-packages (from prefect) (4.12.2)\n",
      "Requirement already satisfied: ujson<6.0.0,>=5.8.0 in /usr/local/lib/python3.11/site-packages (from prefect) (5.10.0)\n",
      "Requirement already satisfied: uvicorn!=0.29.0,>=0.14.0 in /usr/local/lib/python3.11/site-packages (from prefect) (0.30.4)\n",
      "Requirement already satisfied: websockets<13.0,>=10.4 in /usr/local/lib/python3.11/site-packages (from prefect) (12.0)\n",
      "Requirement already satisfied: wrapt>=1.16.0 in /usr/local/lib/python3.11/site-packages (from prefect) (1.16.0)\n",
      "Requirement already satisfied: Mako in /usr/local/lib/python3.11/site-packages (from alembic<2.0.0,>=1.7.5->prefect) (1.3.5)\n",
      "Requirement already satisfied: idna>=2.8 in /usr/local/lib/python3.11/site-packages (from anyio<5.0.0,>=4.4.0->prefect) (3.7)\n",
      "Requirement already satisfied: certifi in /usr/local/lib/python3.11/site-packages (from apprise<2.0.0,>=1.1.0->prefect) (2024.7.4)\n",
      "Requirement already satisfied: requests in /usr/local/lib/python3.11/site-packages (from apprise<2.0.0,>=1.1.0->prefect) (2.32.3)\n",
      "Requirement already satisfied: requests-oauthlib in /usr/local/lib/python3.11/site-packages (from apprise<2.0.0,>=1.1.0->prefect) (2.0.0)\n",
      "Requirement already satisfied: markdown in /usr/local/lib/python3.11/site-packages (from apprise<2.0.0,>=1.1.0->prefect) (3.6)\n",
      "Requirement already satisfied: async-timeout>=4.0.3 in /usr/local/lib/python3.11/site-packages (from asyncpg>=0.23->prefect) (4.0.3)\n",
      "Requirement already satisfied: cffi>=1.12 in /usr/local/lib/python3.11/site-packages (from cryptography>=36.0.1->prefect) (1.16.0)\n",
      "Requirement already satisfied: regex!=2019.02.19,!=2021.8.27 in /usr/local/lib/python3.11/site-packages (from dateparser<2.0.0,>=1.1.1->prefect) (2024.7.24)\n",
      "Requirement already satisfied: tzlocal in /usr/local/lib/python3.11/site-packages (from dateparser<2.0.0,>=1.1.1->prefect) (5.2)\n",
      "Requirement already satisfied: urllib3>=1.26.0 in /usr/local/lib/python3.11/site-packages (from docker>=4.0->prefect) (2.2.2)\n",
      "Requirement already satisfied: starlette<0.38.0,>=0.37.2 in /usr/local/lib/python3.11/site-packages (from fastapi<1.0.0,>=0.111.0->prefect) (0.37.2)\n",
      "Requirement already satisfied: fastapi-cli>=0.0.2 in /usr/local/lib/python3.11/site-packages (from fastapi<1.0.0,>=0.111.0->prefect) (0.0.4)\n",
      "Requirement already satisfied: python-multipart>=0.0.7 in /usr/local/lib/python3.11/site-packages (from fastapi<1.0.0,>=0.111.0->prefect) (0.0.9)\n",
      "Requirement already satisfied: email_validator>=2.0.0 in /usr/local/lib/python3.11/site-packages (from fastapi<1.0.0,>=0.111.0->prefect) (2.2.0)\n",
      "Requirement already satisfied: colorama>=0.4 in /usr/local/lib/python3.11/site-packages (from griffe>=0.20.0->prefect) (0.4.6)\n",
      "Requirement already satisfied: h11<0.15,>=0.13 in /usr/local/lib/python3.11/site-packages (from httpcore<2.0.0,>=1.0.5->prefect) (0.14.0)\n",
      "Requirement already satisfied: h2<5,>=3 in /usr/local/lib/python3.11/site-packages (from httpx[http2]!=0.23.2,>=0.23->prefect) (4.1.0)\n",
      "Requirement already satisfied: MarkupSafe>=2.0 in /usr/local/lib/python3.11/site-packages (from jinja2<4.0.0,>=3.0.0->prefect) (2.1.5)\n",
      "Requirement already satisfied: jsonpointer>=1.9 in /usr/local/lib/python3.11/site-packages (from jsonpatch<2.0,>=1.32->prefect) (3.0.0)\n",
      "Requirement already satisfied: attrs>=22.2.0 in /usr/local/lib/python3.11/site-packages (from jsonschema<5.0.0,>=4.0.0->prefect) (23.2.0)\n",
      "Requirement already satisfied: jsonschema-specifications>=2023.03.6 in /usr/local/lib/python3.11/site-packages (from jsonschema<5.0.0,>=4.0.0->prefect) (2023.12.1)\n",
      "Requirement already satisfied: referencing>=0.28.4 in /usr/local/lib/python3.11/site-packages (from jsonschema<5.0.0,>=4.0.0->prefect) (0.35.1)\n",
      "Requirement already satisfied: rpds-py>=0.7.1 in /usr/local/lib/python3.11/site-packages (from jsonschema<5.0.0,>=4.0.0->prefect) (0.19.1)\n",
      "Requirement already satisfied: tzdata>=2020.1 in /usr/local/lib/python3.11/site-packages (from pendulum<4,>=3.0.0->prefect) (2024.1)\n",
      "Requirement already satisfied: time-machine>=2.6.0 in /usr/local/lib/python3.11/site-packages (from pendulum<4,>=3.0.0->prefect) (2.14.2)\n",
      "Requirement already satisfied: annotated-types>=0.4.0 in /usr/local/lib/python3.11/site-packages (from pydantic<3.0.0,>=2.7->prefect) (0.7.0)\n",
      "Requirement already satisfied: six>=1.5 in /usr/local/lib/python3.11/site-packages (from python-dateutil<3.0.0,>=2.8.2->prefect) (1.16.0)\n",
      "Requirement already satisfied: text-unidecode>=1.3 in /usr/local/lib/python3.11/site-packages (from python-slugify<9.0,>=5.0->prefect) (1.3)\n",
      "Requirement already satisfied: markdown-it-py>=2.2.0 in /usr/local/lib/python3.11/site-packages (from rich<14.0,>=11.0->prefect) (3.0.0)\n",
      "Requirement already satisfied: pygments<3.0.0,>=2.13.0 in /usr/local/lib/python3.11/site-packages (from rich<14.0,>=11.0->prefect) (2.18.0)\n",
      "Requirement already satisfied: ruamel.yaml.clib>=0.2.7 in /usr/local/lib/python3.11/site-packages (from ruamel.yaml>=0.17.0->prefect) (0.2.8)\n",
      "Requirement already satisfied: greenlet!=0.4.17 in /usr/local/lib/python3.11/site-packages (from sqlalchemy<3.0.0,>=2.0->sqlalchemy[asyncio]<3.0.0,>=2.0->prefect) (3.0.3)\n",
      "Requirement already satisfied: shellingham>=1.3.0 in /usr/local/lib/python3.11/site-packages (from typer!=0.12.2,<0.13.0,>=0.12.0->prefect) (1.5.4)\n",
      "Requirement already satisfied: python-dotenv>=0.21.0 in /usr/local/lib/python3.11/site-packages (from pydantic-settings->prefect) (1.0.1)\n",
      "Requirement already satisfied: pycparser in /usr/local/lib/python3.11/site-packages (from cffi>=1.12->cryptography>=36.0.1->prefect) (2.22)\n",
      "Requirement already satisfied: dnspython>=2.0.0 in /usr/local/lib/python3.11/site-packages (from email_validator>=2.0.0->fastapi<1.0.0,>=0.111.0->prefect) (2.6.1)\n",
      "Requirement already satisfied: hyperframe<7,>=6.0 in /usr/local/lib/python3.11/site-packages (from h2<5,>=3->httpx[http2]!=0.23.2,>=0.23->prefect) (6.0.1)\n",
      "Requirement already satisfied: hpack<5,>=4.0 in /usr/local/lib/python3.11/site-packages (from h2<5,>=3->httpx[http2]!=0.23.2,>=0.23->prefect) (4.0.0)\n",
      "Requirement already satisfied: mdurl~=0.1 in /usr/local/lib/python3.11/site-packages (from markdown-it-py>=2.2.0->rich<14.0,>=11.0->prefect) (0.1.2)\n",
      "Requirement already satisfied: charset-normalizer<4,>=2 in /usr/local/lib/python3.11/site-packages (from requests->apprise<2.0.0,>=1.1.0->prefect) (3.3.2)\n",
      "Requirement already satisfied: httptools>=0.5.0 in /usr/local/lib/python3.11/site-packages (from uvicorn[standard]>=0.12.0->fastapi<1.0.0,>=0.111.0->prefect) (0.6.1)\n",
      "Requirement already satisfied: uvloop!=0.15.0,!=0.15.1,>=0.14.0 in /usr/local/lib/python3.11/site-packages (from uvicorn[standard]>=0.12.0->fastapi<1.0.0,>=0.111.0->prefect) (0.19.0)\n",
      "Requirement already satisfied: watchfiles>=0.13 in /usr/local/lib/python3.11/site-packages (from uvicorn[standard]>=0.12.0->fastapi<1.0.0,>=0.111.0->prefect) (0.22.0)\n",
      "Requirement already satisfied: oauthlib>=3.0.0 in /usr/local/lib/python3.11/site-packages (from requests-oauthlib->apprise<2.0.0,>=1.1.0->prefect) (3.2.2)\n",
      "\u001b[33mWARNING: Running pip as the 'root' user can result in broken permissions and conflicting behaviour with the system package manager. It is recommended to use a virtual environment instead: https://pip.pypa.io/warnings/venv\u001b[0m\u001b[33m\n",
      "\u001b[0m\n",
      "\u001b[1m[\u001b[0m\u001b[34;49mnotice\u001b[0m\u001b[1;39;49m]\u001b[0m\u001b[39;49m A new release of pip is available: \u001b[0m\u001b[31;49m23.3.1\u001b[0m\u001b[39;49m -> \u001b[0m\u001b[32;49m25.1.1\u001b[0m\n",
      "\u001b[1m[\u001b[0m\u001b[34;49mnotice\u001b[0m\u001b[1;39;49m]\u001b[0m\u001b[39;49m To update, run: \u001b[0m\u001b[32;49mpip install --upgrade pip\u001b[0m\n",
      "Note: you may need to restart the kernel to use updated packages.\n"
     ]
    }
   ],
   "source": [
    "pip install prefect"
   ]
  },
  {
   "cell_type": "code",
   "execution_count": 2,
   "metadata": {},
   "outputs": [
    {
     "name": "stdout",
     "output_type": "stream",
     "text": [
      "Requirement already satisfied: pip in /usr/local/lib/python3.11/site-packages (23.3.1)\n",
      "\u001b[33mWARNING: Retrying (Retry(total=4, connect=None, read=None, redirect=None, status=None)) after connection broken by 'NewConnectionError('<pip._vendor.urllib3.connection.HTTPSConnection object at 0xffff978de210>: Failed to establish a new connection: [Errno 101] Network is unreachable')': /simple/pip/\u001b[0m\u001b[33m\n",
      "\u001b[0m\u001b[33mWARNING: Retrying (Retry(total=3, connect=None, read=None, redirect=None, status=None)) after connection broken by 'NewConnectionError('<pip._vendor.urllib3.connection.HTTPSConnection object at 0xffff978de9d0>: Failed to establish a new connection: [Errno 101] Network is unreachable')': /simple/pip/\u001b[0m\u001b[33m\n",
      "\u001b[0mCollecting pip\n",
      "  Downloading pip-25.1.1-py3-none-any.whl.metadata (3.6 kB)\n",
      "Downloading pip-25.1.1-py3-none-any.whl (1.8 MB)\n",
      "\u001b[2K   \u001b[90m━━━━━━━━━━━━━━━━━━━━━━━━━━━━━━━━━━━━━━━━\u001b[0m \u001b[32m1.8/1.8 MB\u001b[0m \u001b[31m4.6 MB/s\u001b[0m eta \u001b[36m0:00:00\u001b[0ma \u001b[36m0:00:01\u001b[0m\n",
      "\u001b[?25hInstalling collected packages: pip\n",
      "  Attempting uninstall: pip\n",
      "    Found existing installation: pip 23.3.1\n",
      "    Uninstalling pip-23.3.1:\n",
      "      Successfully uninstalled pip-23.3.1\n",
      "Successfully installed pip-25.1.1\n",
      "\u001b[33mWARNING: Running pip as the 'root' user can result in broken permissions and conflicting behaviour with the system package manager. It is recommended to use a virtual environment instead: https://pip.pypa.io/warnings/venv\u001b[0m\u001b[33m\n",
      "\u001b[0mNote: you may need to restart the kernel to use updated packages.\n"
     ]
    }
   ],
   "source": [
    "pip install --upgrade pip"
   ]
  },
  {
   "cell_type": "code",
   "execution_count": 3,
   "metadata": {},
   "outputs": [
    {
     "data": {
      "text/html": [
       "<pre style=\"white-space:pre;overflow-x:auto;line-height:normal;font-family:Menlo,'DejaVu Sans Mono',consolas,'Courier New',monospace\">00:01:56.614 | <span style=\"color: #008080; text-decoration-color: #008080\">INFO</span>    | prefect.engine - Created flow run<span style=\"color: #800080; text-decoration-color: #800080\"> 'successful-worm'</span> for flow<span style=\"color: #800080; text-decoration-color: #800080; font-weight: bold\"> 'hello_flow: 1.quick_start'</span>\n",
       "</pre>\n"
      ],
      "text/plain": [
       "00:01:56.614 | \u001b[36mINFO\u001b[0m    | prefect.engine - Created flow run\u001b[35m 'successful-worm'\u001b[0m for flow\u001b[1;35m 'hello_flow: 1.quick_start'\u001b[0m\n"
      ]
     },
     "metadata": {},
     "output_type": "display_data"
    },
    {
     "data": {
      "text/html": [
       "<pre style=\"white-space:pre;overflow-x:auto;line-height:normal;font-family:Menlo,'DejaVu Sans Mono',consolas,'Courier New',monospace\">00:01:56.618 | <span style=\"color: #008080; text-decoration-color: #008080\">INFO</span>    | prefect.engine - View at <span style=\"color: #0000ff; text-decoration-color: #0000ff\">http://prefect-server:4200/runs/flow-run/bd5d0f2b-0ff3-4416-8f8a-2b6078bec417</span>\n",
       "</pre>\n"
      ],
      "text/plain": [
       "00:01:56.618 | \u001b[36mINFO\u001b[0m    | prefect.engine - View at \u001b[94mhttp://prefect-server:4200/runs/flow-run/bd5d0f2b-0ff3-4416-8f8a-2b6078bec417\u001b[0m\n"
      ]
     },
     "metadata": {},
     "output_type": "display_data"
    },
    {
     "data": {
      "text/html": [
       "<pre style=\"white-space:pre;overflow-x:auto;line-height:normal;font-family:Menlo,'DejaVu Sans Mono',consolas,'Courier New',monospace\">00:01:56.842 | <span style=\"color: #008080; text-decoration-color: #008080\">INFO</span>    | Task run 'say_hello-0' - Created task run 'say_hello-0' for task 'say_hello'\n",
       "</pre>\n"
      ],
      "text/plain": [
       "00:01:56.842 | \u001b[36mINFO\u001b[0m    | Task run 'say_hello-0' - Created task run 'say_hello-0' for task 'say_hello'\n"
      ]
     },
     "metadata": {},
     "output_type": "display_data"
    },
    {
     "data": {
      "text/html": [
       "<pre style=\"white-space:pre;overflow-x:auto;line-height:normal;font-family:Menlo,'DejaVu Sans Mono',consolas,'Courier New',monospace\">00:01:56.976 | <span style=\"color: #008080; text-decoration-color: #008080\">INFO</span>    | Task run 'say_hello-0' - Finished in state <span style=\"color: #008000; text-decoration-color: #008000\">Completed</span>()\n",
       "</pre>\n"
      ],
      "text/plain": [
       "00:01:56.976 | \u001b[36mINFO\u001b[0m    | Task run 'say_hello-0' - Finished in state \u001b[32mCompleted\u001b[0m()\n"
      ]
     },
     "metadata": {},
     "output_type": "display_data"
    },
    {
     "data": {
      "text/html": [
       "<pre style=\"white-space:pre;overflow-x:auto;line-height:normal;font-family:Menlo,'DejaVu Sans Mono',consolas,'Courier New',monospace\">00:01:57.093 | <span style=\"color: #008080; text-decoration-color: #008080\">INFO</span>    | Task run 'get_name-0' - Created task run 'get_name-0' for task 'get_name'\n",
       "</pre>\n"
      ],
      "text/plain": [
       "00:01:57.093 | \u001b[36mINFO\u001b[0m    | Task run 'get_name-0' - Created task run 'get_name-0' for task 'get_name'\n"
      ]
     },
     "metadata": {},
     "output_type": "display_data"
    },
    {
     "data": {
      "text/html": [
       "<pre style=\"white-space:pre;overflow-x:auto;line-height:normal;font-family:Menlo,'DejaVu Sans Mono',consolas,'Courier New',monospace\">00:01:57.218 | <span style=\"color: #008080; text-decoration-color: #008080\">INFO</span>    | Task run 'get_name-0' - Finished in state <span style=\"color: #008000; text-decoration-color: #008000\">Completed</span>()\n",
       "</pre>\n"
      ],
      "text/plain": [
       "00:01:57.218 | \u001b[36mINFO\u001b[0m    | Task run 'get_name-0' - Finished in state \u001b[32mCompleted\u001b[0m()\n"
      ]
     },
     "metadata": {},
     "output_type": "display_data"
    },
    {
     "name": "stdout",
     "output_type": "stream",
     "text": [
      ">>> result: Hello, DSI321: Big Data Infrastructure!\n"
     ]
    },
    {
     "data": {
      "text/html": [
       "<pre style=\"white-space:pre;overflow-x:auto;line-height:normal;font-family:Menlo,'DejaVu Sans Mono',consolas,'Courier New',monospace\">00:01:57.244 | <span style=\"color: #008080; text-decoration-color: #008080\">INFO</span>    | Flow run<span style=\"color: #800080; text-decoration-color: #800080\"> 'successful-worm'</span> - Finished in state <span style=\"color: #008000; text-decoration-color: #008000\">Completed</span>()\n",
       "</pre>\n"
      ],
      "text/plain": [
       "00:01:57.244 | \u001b[36mINFO\u001b[0m    | Flow run\u001b[35m 'successful-worm'\u001b[0m - Finished in state \u001b[32mCompleted\u001b[0m()\n"
      ]
     },
     "metadata": {},
     "output_type": "display_data"
    }
   ],
   "source": [
    "from prefect import flow, task\n",
    "\n",
    "@task\n",
    "def say_hello():\n",
    "    return \"Hello, \"\n",
    "\n",
    "@task\n",
    "def get_name():\n",
    "    return \"DSI321: Big Data Infrastructure\"\n",
    "    \n",
    "@flow(name=\"hello_flow: 1.quick_start\")\n",
    "def hello_flow():\n",
    "    result = say_hello() + get_name() + \"!\"\n",
    "    print(f\">>> result: {result}\")\n",
    "    return result\n",
    "\n",
    "if __name__ == '__main__':\n",
    "    hello_flow()"
   ]
  }
 ],
 "metadata": {
  "kernelspec": {
   "display_name": "Python 3 (ipykernel)",
   "language": "python",
   "name": "python3"
  },
  "language_info": {
   "codemirror_mode": {
    "name": "ipython",
    "version": 3
   },
   "file_extension": ".py",
   "mimetype": "text/x-python",
   "name": "python",
   "nbconvert_exporter": "python",
   "pygments_lexer": "ipython3",
   "version": "3.11.9"
  }
 },
 "nbformat": 4,
 "nbformat_minor": 4
}
